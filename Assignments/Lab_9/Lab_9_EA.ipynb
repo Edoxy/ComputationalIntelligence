{
 "cells": [
  {
   "cell_type": "code",
   "execution_count": 1,
   "metadata": {},
   "outputs": [
    {
     "name": "stderr",
     "output_type": "stream",
     "text": [
      "/Users/edovay/Documents/code/Polito_Code/ING_MAT/ANNO_2/ComputationalIntelligence/.venv/lib/python3.12/site-packages/tqdm/auto.py:21: TqdmWarning: IProgress not found. Please update jupyter and ipywidgets. See https://ipywidgets.readthedocs.io/en/stable/user_install.html\n",
      "  from .autonotebook import tqdm as notebook_tqdm\n"
     ]
    }
   ],
   "source": [
    "import lab9_lib\n",
    "import EvolutionAlgorithm as EA\n",
    "from General_SSM import General_ILS_Parallel\n",
    "import numpy as np"
   ]
  },
  {
   "cell_type": "code",
   "execution_count": null,
   "metadata": {},
   "outputs": [],
   "source": []
  },
  {
   "cell_type": "code",
   "execution_count": 2,
   "metadata": {},
   "outputs": [
    {
     "name": "stderr",
     "output_type": "stream",
     "text": [
      "100%|██████████| 1000/1000 [00:13<00:00, 71.76it/s]"
     ]
    },
    {
     "name": "stdout",
     "output_type": "stream",
     "text": [
      "125250\n",
      "11001110011100111000110011100111001110011100111001: 56.70%\n"
     ]
    },
    {
     "name": "stderr",
     "output_type": "stream",
     "text": [
      "\n"
     ]
    }
   ],
   "source": [
    "fitness = lab9_lib.TEST(5)\n",
    "\n",
    "fitness_best, best = EA.EA_heap(\n",
    "    mu=250,\n",
    "    lamda=125,\n",
    "    generations=1_000,\n",
    "    tournament_size=25,\n",
    "    MUTATION_PROB=.1,\n",
    "    fitness=fitness,\n",
    "    mutation_func=EA.random_change,\n",
    "    xover_func=EA.xover_multiple_point,\n",
    "    parent_selection_func=EA.tournament_opt,\n",
    ")\n",
    "\n",
    "print(fitness.calls)\n",
    "print(f\"{''.join(str(g) for g in best[0:50])}: {fitness_best:.2%}\")"
   ]
  },
  {
   "cell_type": "code",
   "execution_count": 3,
   "metadata": {},
   "outputs": [],
   "source": [
    "# ils = General_ILS_Parallel(\n",
    "#     state_dim=1000, prob_size=5, n_samples=500, auto_stop=10, restart=14\n",
    "# )\n",
    "\n",
    "# fitness_best, best = ils.agent_solver(iterations=500)\n",
    "# print(f\"{''.join(str(int(g)) for g in best[0:30])}: {fitness_best:.2%}\")"
   ]
  }
 ],
 "metadata": {
  "kernelspec": {
   "display_name": ".venv",
   "language": "python",
   "name": "python3"
  },
  "language_info": {
   "codemirror_mode": {
    "name": "ipython",
    "version": 3
   },
   "file_extension": ".py",
   "mimetype": "text/x-python",
   "name": "python",
   "nbconvert_exporter": "python",
   "pygments_lexer": "ipython3",
   "version": "3.12.0"
  }
 },
 "nbformat": 4,
 "nbformat_minor": 2
}
