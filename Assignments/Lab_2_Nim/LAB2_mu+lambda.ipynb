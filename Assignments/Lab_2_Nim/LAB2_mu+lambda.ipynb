{
 "cells": [
  {
   "cell_type": "code",
   "execution_count": 1,
   "metadata": {},
   "outputs": [
    {
     "name": "stderr",
     "output_type": "stream",
     "text": [
      "/var/folders/2y/_ycqdwxs44z50d53gg4hp92w0000gn/T/ipykernel_2433/3707614075.py:10: TqdmWarning: IProgress not found. Please update jupyter and ipywidgets. See https://ipywidgets.readthedocs.io/en/stable/user_install.html\n",
      "  from tqdm.autonotebook import tqdm\n"
     ]
    }
   ],
   "source": [
    "from time import time\n",
    "import numpy as np\n",
    "import logging\n",
    "from pprint import pprint, pformat\n",
    "import random\n",
    "from collections import namedtuple\n",
    "from copy import deepcopy\n",
    "from multiprocessing import Pool\n",
    "from matplotlib import pyplot as plt\n",
    "from tqdm.autonotebook import tqdm\n",
    "\n",
    "Nimply = namedtuple(\"Nimply\", \"row, num_objects\")"
   ]
  },
  {
   "cell_type": "code",
   "execution_count": 2,
   "metadata": {},
   "outputs": [],
   "source": [
    "class Nim:\n",
    "    def __init__(self, num_rows: int, k: int = None) -> None:\n",
    "        self._rows = [i * 2 + 1 for i in range(num_rows)]\n",
    "        self._k = k\n",
    "\n",
    "    def __bool__(self):\n",
    "        return sum(self._rows) > 0\n",
    "\n",
    "    def __str__(self):\n",
    "        return \"<\" + \" \".join(str(_) for _ in self._rows) + \">\"\n",
    "\n",
    "    @property\n",
    "    def rows(self) -> tuple:\n",
    "        return tuple(self._rows)\n",
    "\n",
    "    def nimming(self, ply: Nimply) -> None:\n",
    "        row, num_objects = ply\n",
    "        assert self._rows[row] >= num_objects\n",
    "        assert self._k is None or num_objects <= self._k\n",
    "        self._rows[row] -= num_objects"
   ]
  },
  {
   "cell_type": "code",
   "execution_count": 3,
   "metadata": {},
   "outputs": [],
   "source": [
    "def pure_random(state: Nim) -> Nimply:\n",
    "    \"\"\"A completely random move\"\"\"\n",
    "    row = random.choice([r for r, c in enumerate(state.rows) if c > 0])\n",
    "    num_objects = random.randint(1, state.rows[row])\n",
    "    return Nimply(row, num_objects)\n",
    "\n",
    "\n",
    "def gabriele(state: Nim) -> Nimply:\n",
    "    \"\"\"Pick always the maximum possible number of the lowest row\"\"\"\n",
    "    possible_moves = [(r, o) for r, c in enumerate(state.rows) for o in range(1, c + 1)]\n",
    "    return Nimply(*max(possible_moves, key=lambda m: (-m[0], m[1])))"
   ]
  },
  {
   "cell_type": "code",
   "execution_count": 4,
   "metadata": {},
   "outputs": [],
   "source": [
    "def nim_sum(state: Nim) -> int:\n",
    "    tmp = np.array([tuple(int(x) for x in f\"{c:032b}\") for c in state.rows])\n",
    "\n",
    "    xor = tmp.sum(axis=0) % 2\n",
    "    return int(\"\".join(str(_) for _ in xor), base=2)\n",
    "\n",
    "\n",
    "def analize(raw: Nim) -> dict:\n",
    "    candidate = dict()\n",
    "    for ply in (Nimply(r, o) for r, c in enumerate(raw.rows) for o in range(1, c + 1)):\n",
    "        tmp = deepcopy(raw)\n",
    "        tmp.nimming(ply)\n",
    "        candidate[ply] = nim_sum(tmp)\n",
    "    return candidate\n",
    "\n",
    "\n",
    "def optimal(state: Nim) -> Nimply:\n",
    "    analysis = analize(state)\n",
    "    logging.debug(f\"analysis:\\n{pformat(analysis)}\")\n",
    "    spicy_moves = [ply for ply, ns in analysis.items() if ns != 0]\n",
    "    if not spicy_moves:\n",
    "        spicy_moves = list(analysis.keys())\n",
    "    ply = random.choice(spicy_moves)\n",
    "    return ply\n",
    "\n",
    "\n",
    "def new_optimal(state: Nim) -> Nimply:\n",
    "    analysis = analize(state)\n",
    "    logging.debug(f\"analysis:\\n{pformat(analysis)}\")\n",
    "    spicy_moves = [ply for ply, ns in analysis.items() if ns == 1]\n",
    "    if not spicy_moves:\n",
    "        spicy_moves = list(analysis.keys())\n",
    "    ply = random.choice(spicy_moves)\n",
    "    return ply"
   ]
  },
  {
   "cell_type": "code",
   "execution_count": 5,
   "metadata": {},
   "outputs": [],
   "source": [
    "def nim_game(num_rows: int, strategy1, strategy2) -> bool:\n",
    "    \"\"\"\n",
    "    Simulate a game against the optimal strategie and returns True if your strategy 1 won\n",
    "    \"\"\"\n",
    "    strategies = [strategy1, strategy2]\n",
    "    nim = Nim(num_rows)\n",
    "    player = 0\n",
    "    while nim:\n",
    "        move = strategies[player](nim)\n",
    "        nim.nimming(move)\n",
    "        player = 1 - player\n",
    "\n",
    "    return player == 0\n",
    "\n",
    "\n",
    "def simulate_games(num_games: int, num_rows: int, strategy1, strategy2) -> float:\n",
    "    wins = 0\n",
    "    for _ in range(num_games):\n",
    "        if nim_game(num_rows, strategy1, strategy2):\n",
    "            wins += 1\n",
    "        if not nim_game(num_rows, strategy2, strategy1):\n",
    "            wins += 1\n",
    "\n",
    "    return wins / (2 * num_games)\n",
    "\n",
    "\n",
    "def simulate_games_all(num_games: int, num_rows: int, strategy1) -> float:\n",
    "    wins = 0\n",
    "    for _ in range(num_games):\n",
    "        for j in range(3):\n",
    "            if nim_game(num_rows, strategy1, pure_random):\n",
    "                wins += 1\n",
    "            if not nim_game(num_rows, pure_random, strategy1):\n",
    "                wins += 1\n",
    "        if nim_game(num_rows, strategy1, optimal):\n",
    "            wins += 1\n",
    "        if not nim_game(num_rows, optimal, strategy1):\n",
    "            wins += 1\n",
    "        if nim_game(num_rows, strategy1, new_optimal):\n",
    "            wins += 1\n",
    "        if not nim_game(num_rows, new_optimal, strategy1):\n",
    "            wins += 1\n",
    "\n",
    "    return wins / (10 * num_games)"
   ]
  },
  {
   "cell_type": "code",
   "execution_count": 6,
   "metadata": {},
   "outputs": [],
   "source": [
    "def policy(args):\n",
    "    def strategy(nim: Nim):\n",
    "        n_possible_rows = 0\n",
    "        # n_possible_rows = sum([1 for i in nim._rows if i > 0]) - 1\n",
    "        analysis = analize(nim)\n",
    "        population = list()\n",
    "        weights = list()\n",
    "        for ply, ns in analysis.items():\n",
    "            population.append(ply)\n",
    "            weights.append(args[ns + n_possible_rows])\n",
    "\n",
    "        # ply = random.choices(population=population, weights=weights, k=1)[0]\n",
    "        return population[np.argmax(weights)]\n",
    "\n",
    "    return strategy\n",
    "\n",
    "\n",
    "def fitness1(n_rows: int, n_games: int, strategy2):\n",
    "    def fitness_func(args) -> float:\n",
    "        strategy1 = policy(args)\n",
    "        return simulate_games(n_games, n_rows, strategy1, strategy2)\n",
    "\n",
    "    return fitness_func\n",
    "\n",
    "\n",
    "def fitness2(n_rows: int, n_games: int):\n",
    "    def fitness_func(args) -> float:\n",
    "        strategy1 = policy(args)\n",
    "        return simulate_games_all(n_games, n_rows, strategy1)\n",
    "\n",
    "    return fitness_func"
   ]
  },
  {
   "cell_type": "code",
   "execution_count": 7,
   "metadata": {},
   "outputs": [],
   "source": [
    "def ES_1_plus_lambda(_function, N_DIM, n_offspring=1_000):\n",
    "    λ = 25\n",
    "    σ = 0.1\n",
    "\n",
    "    solution = np.random.normal(loc=0, scale=σ, size=N_DIM)\n",
    "    history = list()\n",
    "    best_so_far = np.copy(solution)\n",
    "    best_eval = _function(solution)\n",
    "\n",
    "    stats = [0, 0]\n",
    "    for step in tqdm(range(n_offspring // λ)):\n",
    "        samples = np.random.normal(loc=0, scale=σ, size=(λ, N_DIM)) + solution\n",
    "        samples_evals = np.array([_function(samples[i]) for i in range(λ)])\n",
    "\n",
    "        stats[0] += λ\n",
    "        stats[1] += sum(samples_evals > best_eval)\n",
    "\n",
    "        best_offspring = np.argmax(samples_evals)\n",
    "        solution = samples[best_offspring]\n",
    "\n",
    "        if best_eval < samples_evals[best_offspring]:\n",
    "            best_eval = samples_evals[best_offspring]\n",
    "            best_so_far = np.copy(solution) / best_eval\n",
    "            history.append((step, samples_evals[best_offspring]))\n",
    "\n",
    "        if (step + 1) % 10 == 0:\n",
    "            if stats[1] == 0 or stats[0] / stats[1] > 1 / 5:\n",
    "                σ *= 1.1\n",
    "            elif stats[0] / stats[1] < 1 / 5:\n",
    "                σ *= 0.9\n",
    "            stats = [0, 0]\n",
    "    print(σ)\n",
    "    return best_so_far, history"
   ]
  },
  {
   "cell_type": "code",
   "execution_count": 8,
   "metadata": {},
   "outputs": [],
   "source": [
    "def ES_mu_plus_lambda(_function, N_DIM, n_offspring=1_000):\n",
    "    μ = 10\n",
    "    λ = 25\n",
    "    σ = 0.01\n",
    "\n",
    "    population = np.random.normal(loc=0, scale=σ, size=(µ, N_DIM + 1))\n",
    "\n",
    "    population[:, -1] = σ\n",
    "\n",
    "    best_fitness = None\n",
    "    history = list()\n",
    "    for step in tqdm(range(n_offspring // λ)):\n",
    "        # offspring <- select λ random points from the population of μ\n",
    "        offspring = population[np.random.randint(0, μ, size=(λ,))]\n",
    "        # mutate all σ (last column) and replace negative values with a small number\n",
    "        offspring[:, -1] = np.random.normal(loc=offspring[:, -1], scale=0.01)\n",
    "        offspring[offspring[:, -1] < 1e-5, -1] = 1e-5\n",
    "        # mutate all v (all columns but the last), using the σ in the last column\n",
    "        offspring[:, 0:-1] = np.random.normal(\n",
    "            loc=offspring[:, 0:-1], scale=offspring[:, -1].reshape(-1, 1)\n",
    "        )\n",
    "\n",
    "        fitness = np.array([_function(offspring[i, 0:-1]) for i in range(λ)])\n",
    "        offspring = offspring[(-fitness).argsort()]\n",
    "        # save best (just for the plot)\n",
    "        if best_fitness is None or best_fitness < np.max(fitness):\n",
    "            best_fitness = np.max(fitness)\n",
    "            history.append((step, best_fitness))\n",
    "        # select the μ with max fitness and discard fitness\n",
    "        population = np.copy(offspring[:µ])\n",
    "        population[:, 0:-1] = population[:, 0:-1] * (1 / best_fitness)\n",
    "\n",
    "    return population[0, 0:-1], history"
   ]
  },
  {
   "cell_type": "code",
   "execution_count": 9,
   "metadata": {},
   "outputs": [
    {
     "name": "stderr",
     "output_type": "stream",
     "text": [
      "100%|██████████| 8/8 [00:45<00:00,  5.72s/it]\n"
     ]
    },
    {
     "name": "stdout",
     "output_type": "stream",
     "text": [
      "0.1\n"
     ]
    },
    {
     "name": "stderr",
     "output_type": "stream",
     "text": [
      "100%|██████████| 8/8 [00:46<00:00,  5.78s/it]\n"
     ]
    }
   ],
   "source": [
    "N_ROWS = 5\n",
    "N_GAMES = 10\n",
    "ARG_DIM = 2 ** ((2 * N_ROWS - 1).bit_length())\n",
    "best_solution1, history1 = ES_1_plus_lambda(\n",
    "    fitness2(N_ROWS, N_GAMES), ARG_DIM, n_offspring=200\n",
    ")\n",
    "\n",
    "best_solution2, history2 = ES_mu_plus_lambda(\n",
    "    fitness2(N_ROWS, N_GAMES), ARG_DIM, n_offspring=200\n",
    ")"
   ]
  },
  {
   "cell_type": "code",
   "execution_count": 14,
   "metadata": {},
   "outputs": [
    {
     "name": "stdout",
     "output_type": "stream",
     "text": [
      "[-0.18136772  0.14256158 -0.46158634 -0.72226175 -0.49728055 -0.22249477\n",
      " -0.13322381 -0.01904861  0.01518551  0.06614646  0.23081439 -0.40927297\n",
      " -0.18541313  0.09186227  0.06707827 -0.14643235]\n",
      "[ 0.01625084  0.10242458 -0.16076846 -0.06659419 -0.10794734  0.01639619\n",
      "  0.04379532 -0.05681257 -0.23602905  0.03750791  0.02522296 -0.0009659\n",
      " -0.04148736  0.00532015  0.11084885  0.08715261]\n"
     ]
    }
   ],
   "source": [
    "print(best_solution1)\n",
    "print(best_solution2)"
   ]
  },
  {
   "cell_type": "code",
   "execution_count": 16,
   "metadata": {},
   "outputs": [
    {
     "name": "stdout",
     "output_type": "stream",
     "text": [
      "array([ 3,  4,  2, 11,  5, 12,  0, 15,  6,  7,  8,  9, 14, 13,  1, 10])\n",
      "array([ 8,  2,  4,  3,  7, 12, 11, 13,  0,  5, 10,  9,  6, 15,  1, 14])\n",
      "array([ 4,  7, 13,  8,  0, 15,  9,  2,  6, 14, 11,  5, 12,  3, 10,  1])\n",
      "50.0 % of wins\n",
      "100.0 % of wins\n",
      "100.0 % of wins\n"
     ]
    }
   ],
   "source": [
    "abdel = [\n",
    "    0.18580199,\n",
    "    1.17770388,\n",
    "    0.60390788,\n",
    "    0.77325736,\n",
    "    0.01668597,\n",
    "    0.67694702,\n",
    "    0.60994287,\n",
    "    0.09265408,\n",
    "    0.10901224,\n",
    "    0.29563519,\n",
    "    0.99970367,\n",
    "    0.67504219,\n",
    "    0.73287389,\n",
    "    0.09459263,\n",
    "    0.61431108,\n",
    "    0.23061273,\n",
    "]\n",
    "pprint(np.argsort(best_solution1) % ARG_DIM)\n",
    "pprint(np.argsort(best_solution2) % ARG_DIM)\n",
    "pprint(np.argsort(abdel) % ARG_DIM)\n",
    "print(\n",
    "    fitness1(\n",
    "        N_ROWS,\n",
    "        n_games=50,\n",
    "        strategy2=policy(best_solution2),\n",
    "    )(best_solution1)\n",
    "    * 100,\n",
    "    \"% of wins\",\n",
    ")\n",
    "\n",
    "print(\n",
    "    fitness1(\n",
    "        N_ROWS,\n",
    "        n_games=50,\n",
    "        strategy2=policy(abdel),\n",
    "    )(best_solution1)\n",
    "    * 100,\n",
    "    \"% of wins\",\n",
    ")\n",
    "\n",
    "print(\n",
    "    fitness1(\n",
    "        N_ROWS,\n",
    "        n_games=50,\n",
    "        strategy2=policy(abdel),\n",
    "    )(best_solution2)\n",
    "    * 100,\n",
    "    \"% of wins\",\n",
    ")"
   ]
  },
  {
   "cell_type": "code",
   "execution_count": 12,
   "metadata": {},
   "outputs": [
    {
     "name": "stdout",
     "output_type": "stream",
     "text": [
      "[(0, 0.92), (1, 0.99), (3, 1.0)]\n",
      "[(0, 0.99)]\n"
     ]
    }
   ],
   "source": [
    "pprint(history1)\n",
    "pprint(history2)"
   ]
  },
  {
   "cell_type": "code",
   "execution_count": 13,
   "metadata": {},
   "outputs": [
    {
     "ename": "NameError",
     "evalue": "name 'history' is not defined",
     "output_type": "error",
     "traceback": [
      "\u001b[0;31m---------------------------------------------------------------------------\u001b[0m",
      "\u001b[0;31mNameError\u001b[0m                                 Traceback (most recent call last)",
      "\u001b[1;32m/Users/edovay/Documents/code/Polito_Code/ING_MAT/ANNO_2/ComputationalIntelligence/Assignments/Lab_2_Nim/LAB2_mu+lambda.ipynb Cell 13\u001b[0m line \u001b[0;36m1\n\u001b[0;32m----> <a href='vscode-notebook-cell:/Users/edovay/Documents/code/Polito_Code/ING_MAT/ANNO_2/ComputationalIntelligence/Assignments/Lab_2_Nim/LAB2_mu%2Blambda.ipynb#X15sZmlsZQ%3D%3D?line=0'>1</a>\u001b[0m history \u001b[39m=\u001b[39m np\u001b[39m.\u001b[39marray(history)\n\u001b[1;32m      <a href='vscode-notebook-cell:/Users/edovay/Documents/code/Polito_Code/ING_MAT/ANNO_2/ComputationalIntelligence/Assignments/Lab_2_Nim/LAB2_mu%2Blambda.ipynb#X15sZmlsZQ%3D%3D?line=1'>2</a>\u001b[0m plt\u001b[39m.\u001b[39mfigure(figsize\u001b[39m=\u001b[39m(\u001b[39m14\u001b[39m, \u001b[39m4\u001b[39m))\n\u001b[1;32m      <a href='vscode-notebook-cell:/Users/edovay/Documents/code/Polito_Code/ING_MAT/ANNO_2/ComputationalIntelligence/Assignments/Lab_2_Nim/LAB2_mu%2Blambda.ipynb#X15sZmlsZQ%3D%3D?line=2'>3</a>\u001b[0m plt\u001b[39m.\u001b[39mplot(history[:, \u001b[39m0\u001b[39m], history[:, \u001b[39m1\u001b[39m], marker\u001b[39m=\u001b[39m\u001b[39m\"\u001b[39m\u001b[39m.\u001b[39m\u001b[39m\"\u001b[39m)\n",
      "\u001b[0;31mNameError\u001b[0m: name 'history' is not defined"
     ]
    }
   ],
   "source": [
    "history = np.array(history)\n",
    "plt.figure(figsize=(14, 4))\n",
    "plt.plot(history[:, 0], history[:, 1], marker=\".\")\n",
    "plt.show()"
   ]
  }
 ],
 "metadata": {
  "kernelspec": {
   "display_name": ".venv",
   "language": "python",
   "name": "python3"
  },
  "language_info": {
   "codemirror_mode": {
    "name": "ipython",
    "version": 3
   },
   "file_extension": ".py",
   "mimetype": "text/x-python",
   "name": "python",
   "nbconvert_exporter": "python",
   "pygments_lexer": "ipython3",
   "version": "3.12.0"
  }
 },
 "nbformat": 4,
 "nbformat_minor": 2
}
