{
 "cells": [
  {
   "cell_type": "code",
   "execution_count": 1,
   "metadata": {},
   "outputs": [
    {
     "name": "stderr",
     "output_type": "stream",
     "text": [
      "/var/folders/2y/_ycqdwxs44z50d53gg4hp92w0000gn/T/ipykernel_13572/3707614075.py:10: TqdmWarning: IProgress not found. Please update jupyter and ipywidgets. See https://ipywidgets.readthedocs.io/en/stable/user_install.html\n",
      "  from tqdm.autonotebook import tqdm\n"
     ]
    }
   ],
   "source": [
    "from time import time\n",
    "import numpy as np\n",
    "import logging\n",
    "from pprint import pprint, pformat\n",
    "import random\n",
    "from collections import namedtuple\n",
    "from copy import deepcopy\n",
    "from multiprocessing import Pool\n",
    "from matplotlib import pyplot as plt\n",
    "from tqdm.autonotebook import tqdm\n",
    "\n",
    "Nimply = namedtuple(\"Nimply\", \"row, num_objects\")"
   ]
  },
  {
   "cell_type": "code",
   "execution_count": 2,
   "metadata": {},
   "outputs": [],
   "source": [
    "class Nim:\n",
    "    def __init__(self, num_rows: int, k: int = None) -> None:\n",
    "        self._rows = [i * 2 + 1 for i in range(num_rows)]\n",
    "        self._k = k\n",
    "\n",
    "    def __bool__(self):\n",
    "        return sum(self._rows) > 0\n",
    "\n",
    "    def __str__(self):\n",
    "        return \"<\" + \" \".join(str(_) for _ in self._rows) + \">\"\n",
    "\n",
    "    @property\n",
    "    def rows(self) -> tuple:\n",
    "        return tuple(self._rows)\n",
    "\n",
    "    def nimming(self, ply: Nimply) -> None:\n",
    "        row, num_objects = ply\n",
    "        assert self._rows[row] >= num_objects\n",
    "        assert self._k is None or num_objects <= self._k\n",
    "        self._rows[row] -= num_objects"
   ]
  },
  {
   "cell_type": "code",
   "execution_count": 3,
   "metadata": {},
   "outputs": [],
   "source": [
    "def pure_random(state: Nim) -> Nimply:\n",
    "    \"\"\"A completely random move\"\"\"\n",
    "    row = random.choice([r for r, c in enumerate(state.rows) if c > 0])\n",
    "    num_objects = random.randint(1, state.rows[row])\n",
    "    return Nimply(row, num_objects)\n",
    "\n",
    "\n",
    "def gabriele(state: Nim) -> Nimply:\n",
    "    \"\"\"Pick always the maximum possible number of the lowest row\"\"\"\n",
    "    possible_moves = [(r, o) for r, c in enumerate(state.rows) for o in range(1, c + 1)]\n",
    "    return Nimply(*max(possible_moves, key=lambda m: (-m[0], m[1])))"
   ]
  },
  {
   "cell_type": "code",
   "execution_count": 4,
   "metadata": {},
   "outputs": [],
   "source": [
    "def nim_sum(state: Nim) -> int:\n",
    "    tmp = np.array([tuple(int(x) for x in f\"{c:032b}\") for c in state.rows])\n",
    "\n",
    "    xor = tmp.sum(axis=0) % 2\n",
    "    return int(\"\".join(str(_) for _ in xor), base=2)\n",
    "\n",
    "\n",
    "def analize(raw: Nim) -> dict:\n",
    "    candidate = dict()\n",
    "    for ply in (Nimply(r, o) for r, c in enumerate(raw.rows) for o in range(1, c + 1)):\n",
    "        tmp = deepcopy(raw)\n",
    "        tmp.nimming(ply)\n",
    "        candidate[ply] = nim_sum(tmp)\n",
    "    return candidate\n",
    "\n",
    "\n",
    "def optimal(state: Nim) -> Nimply:\n",
    "    analysis = analize(state)\n",
    "    logging.debug(f\"analysis:\\n{pformat(analysis)}\")\n",
    "    spicy_moves = [ply for ply, ns in analysis.items() if ns != 0]\n",
    "    if not spicy_moves:\n",
    "        spicy_moves = list(analysis.keys())\n",
    "    ply = random.choice(spicy_moves)\n",
    "    return ply\n",
    "\n",
    "\n",
    "def new_optimal(state: Nim) -> Nimply:\n",
    "    analysis = analize(state)\n",
    "    logging.debug(f\"analysis:\\n{pformat(analysis)}\")\n",
    "    spicy_moves = [ply for ply, ns in analysis.items() if ns == 1]\n",
    "    if not spicy_moves:\n",
    "        spicy_moves = list(analysis.keys())\n",
    "    ply = random.choice(spicy_moves)\n",
    "    return ply"
   ]
  },
  {
   "cell_type": "code",
   "execution_count": 5,
   "metadata": {},
   "outputs": [],
   "source": [
    "def nim_game(num_rows: int, strategy1, strategy2) -> bool:\n",
    "    \"\"\"\n",
    "    Simulate a game against the optimal strategie and returns True if your strategy 1 won\n",
    "    \"\"\"\n",
    "    strategies = [strategy1, strategy2]\n",
    "    nim = Nim(num_rows)\n",
    "    player = 0\n",
    "    while nim:\n",
    "        move = strategies[player](nim)\n",
    "        nim.nimming(move)\n",
    "        player = 1 - player\n",
    "\n",
    "    return player == 0\n",
    "\n",
    "\n",
    "def simulate_games(num_games: int, num_rows: int, strategy1, strategy2) -> float:\n",
    "    wins = 0\n",
    "    for _ in range(num_games):\n",
    "        if nim_game(num_rows, strategy1, strategy2):\n",
    "            wins += 1\n",
    "        if not nim_game(num_rows, strategy2, strategy1):\n",
    "            wins += 1\n",
    "\n",
    "    return wins / (2 * num_games)\n",
    "\n",
    "\n",
    "def simulate_games_all(num_games: int, num_rows: int, strategy1) -> float:\n",
    "    wins = 0\n",
    "    for _ in range(num_games):\n",
    "        for j in range(3):\n",
    "            if nim_game(num_rows, strategy1, pure_random):\n",
    "                wins += 1\n",
    "            if not nim_game(num_rows, pure_random, strategy1):\n",
    "                wins += 1\n",
    "        if nim_game(num_rows, strategy1, optimal):\n",
    "            wins += 1\n",
    "        if not nim_game(num_rows, optimal, strategy1):\n",
    "            wins += 1\n",
    "        if nim_game(num_rows, strategy1, new_optimal):\n",
    "            wins += 1\n",
    "        if not nim_game(num_rows, new_optimal, strategy1):\n",
    "            wins += 1\n",
    "\n",
    "    return wins / (10 * num_games)"
   ]
  },
  {
   "cell_type": "code",
   "execution_count": 6,
   "metadata": {},
   "outputs": [],
   "source": [
    "\n",
    "def policy(args):\n",
    "    \"\"\"\n",
    "    This function defines returns a function handle that acts as a strategy defined from the args\n",
    "    \"\"\"\n",
    "    def strategy(nim: Nim):\n",
    "        \"\"\" Strategy that chooses the move that has the maximum value of arg correspondig to the nimsum \"\"\"\n",
    "        analysis = analize(nim)\n",
    "        population = list()\n",
    "        weights = list()\n",
    "        for ply, ns in analysis.items():\n",
    "            population.append(ply)\n",
    "            weights.append(args[ns])\n",
    "\n",
    "        # ply = random.choices(population=population, weights=weights, k=1)[0]\n",
    "        return population[np.argmax(weights)]\n",
    "\n",
    "    return strategy\n",
    "\n",
    "def fitness1(n_rows: int, n_games: int, strategy2):\n",
    "    '''Fitness evaluated against a specified strategy'''\n",
    "    def fitness_func(args) -> float:\n",
    "        strategy1 = policy(args)\n",
    "        return simulate_games(n_games, n_rows, strategy1, strategy2)\n",
    "\n",
    "    return fitness_func\n",
    "\n",
    "\n",
    "def fitness2(n_rows: int, n_games: int):\n",
    "    '''Fitness evaluated against all the strategies'''\n",
    "    def fitness_func(args) -> float:\n",
    "        strategy1 = policy(args)\n",
    "        return simulate_games_all(n_games, n_rows, strategy1)\n",
    "\n",
    "    return fitness_func\n",
    "\n",
    "def fitness3(n_rows: int, n_games: int):\n",
    "    '''Fitness evaluated between two indiidual of the population'''\n",
    "    def fitness_func(arg1, arg2) -> float:\n",
    "        strategy1 = policy(arg1)\n",
    "        strategy2 = policy(arg2)\n",
    "\n",
    "        return simulate_games(n_games, n_rows, strategy1, strategy2)\n",
    "\n",
    "    return fitness_func"
   ]
  },
  {
   "cell_type": "code",
   "execution_count": 7,
   "metadata": {},
   "outputs": [],
   "source": [
    "def ES_1_plus_lambda(_function, N_DIM, n_offspring=1_000):\n",
    "    λ = 25\n",
    "    σ = 0.1\n",
    "\n",
    "    solution = np.random.normal(loc=0, scale=σ, size=N_DIM)\n",
    "    history = list()\n",
    "    best_so_far = np.copy(solution)\n",
    "    best_eval = _function(solution)\n",
    "\n",
    "    stats = [0, 0]\n",
    "    for step in tqdm(range(n_offspring // λ)):\n",
    "        samples = np.random.normal(loc=0, scale=σ, size=(λ, N_DIM)) + solution\n",
    "        samples_evals = np.array([_function(samples[i]) for i in range(λ)])\n",
    "\n",
    "        stats[0] += λ\n",
    "        stats[1] += sum(samples_evals > best_eval)\n",
    "\n",
    "        best_offspring = np.argmax(samples_evals)\n",
    "        solution = samples[best_offspring]\n",
    "\n",
    "        if best_eval < samples_evals[best_offspring]:\n",
    "            best_eval = samples_evals[best_offspring]\n",
    "            best_so_far = np.copy(solution) / np.max(solution)\n",
    "            history.append((step, samples_evals[best_offspring]))\n",
    "\n",
    "        if (step + 1) % 10 == 0:\n",
    "            if stats[1] == 0 or stats[0] / stats[1] > 1 / 5:\n",
    "                σ *= 1.1\n",
    "            elif stats[0] / stats[1] < 1 / 5:\n",
    "                σ *= 0.9\n",
    "            stats = [0, 0]\n",
    "    print(σ)\n",
    "    return best_so_far, history"
   ]
  },
  {
   "cell_type": "code",
   "execution_count": 8,
   "metadata": {},
   "outputs": [],
   "source": [
    "def ES_1_plus_lambda_against(_function, N_DIM, n_offspring=1_000):\n",
    "    λ = 5\n",
    "    σ = .75\n",
    "\n",
    "    solution = np.random.normal(loc=0, scale=σ, size=N_DIM)\n",
    "    history = list()\n",
    "    best_so_far = np.copy(solution)\n",
    "\n",
    "\n",
    "    for step in tqdm(range(n_offspring // λ)):\n",
    "        samples = np.random.normal(loc=0, scale=σ, size=(λ, N_DIM)) + solution\n",
    "        # make them play all with each other\n",
    "        samples_evals = np.array([0 for i in range(λ)])\n",
    "        for i in range(λ):\n",
    "            for j in range(i, λ):\n",
    "                if i == j:\n",
    "                    samples_evals[i] += fitness1(n_games=2, n_rows=5, strategy2=pure_random)(samples[i])\n",
    "                else:\n",
    "                    result = _function(samples[i], samples[j])\n",
    "                    samples_evals[i] += result\n",
    "                    samples_evals[j] += (1 - result)\n",
    "\n",
    "        samples_evals = samples_evals /(λ)\n",
    "\n",
    "        best_offspring = np.argmax(samples_evals)\n",
    "        solution = samples[best_offspring]\n",
    "\n",
    "        if _function(best_so_far, solution) < 0.5:\n",
    "            best_so_far = np.copy(solution) / np.max(solution)\n",
    "            history.append((step, samples_evals[best_offspring]))\n",
    "\n",
    "    return best_so_far, history"
   ]
  },
  {
   "cell_type": "code",
   "execution_count": 9,
   "metadata": {},
   "outputs": [],
   "source": [
    "def ES_mu_plus_lambda(_function, N_DIM, n_offspring=1_000):\n",
    "    μ = 10\n",
    "    λ = 25\n",
    "    σ = 0.01\n",
    "\n",
    "    population = np.random.normal(loc=0, scale=σ, size=(µ, N_DIM + 1))\n",
    "\n",
    "    population[:, -1] = σ\n",
    "\n",
    "    best_fitness = None\n",
    "    history = list()\n",
    "    for step in tqdm(range(n_offspring // λ)):\n",
    "        # offspring <- select λ random points from the population of μ\n",
    "        offspring = population[np.random.randint(0, μ, size=(λ,))]\n",
    "        # mutate all σ (last column) and replace negative values with a small number\n",
    "        offspring[:, -1] = np.random.normal(loc=offspring[:, -1], scale=0.01)\n",
    "        offspring[offspring[:, -1] < 1e-5, -1] = 1e-5\n",
    "        # mutate all v (all columns but the last), using the σ in the last column\n",
    "        offspring[:, 0:-1] = np.random.normal(\n",
    "            loc=offspring[:, 0:-1], scale=offspring[:, -1].reshape(-1, 1)\n",
    "        )\n",
    "\n",
    "        fitness = np.array([_function(offspring[i, 0:-1]) for i in range(λ)])\n",
    "        offspring = offspring[(-fitness).argsort()]\n",
    "        # save best (just for the plot)\n",
    "        if best_fitness is None or best_fitness < np.max(fitness):\n",
    "            best_fitness = np.max(fitness)\n",
    "            history.append((step, best_fitness))\n",
    "        # select the μ with max fitness and discard fitness\n",
    "        population = np.copy(offspring[:µ])\n",
    "        population[:, 0:-1] = population[:, 0:-1] * (1 / np.max(population[0, 0:-1]))\n",
    "\n",
    "    return population[0, 0:-1], history"
   ]
  },
  {
   "cell_type": "code",
   "execution_count": 10,
   "metadata": {},
   "outputs": [
    {
     "name": "stderr",
     "output_type": "stream",
     "text": [
      "100%|██████████| 120/120 [07:51<00:00,  3.93s/it]\n"
     ]
    },
    {
     "name": "stdout",
     "output_type": "stream",
     "text": [
      "0.3138428376721002\n"
     ]
    },
    {
     "name": "stderr",
     "output_type": "stream",
     "text": [
      "100%|██████████| 120/120 [05:53<00:00,  2.95s/it]\n",
      "100%|██████████| 600/600 [01:17<00:00,  7.79it/s]\n"
     ]
    }
   ],
   "source": [
    "N_ROWS = 5\n",
    "N_GAMES = 5\n",
    "ARG_DIM = 2 ** ((2 * N_ROWS - 1).bit_length())\n",
    "best_solution1, history1 = ES_1_plus_lambda(\n",
    "    fitness2(N_ROWS, N_GAMES), ARG_DIM, n_offspring=3_000\n",
    ")\n",
    "\n",
    "best_solution2, history2 = ES_mu_plus_lambda(\n",
    "    fitness2(N_ROWS, N_GAMES), ARG_DIM, n_offspring=3_000\n",
    ")\n",
    "\n",
    "best_solution3, history3 = ES_1_plus_lambda_against(\n",
    "    fitness3(N_ROWS, 1), ARG_DIM, n_offspring=3_000\n",
    ")"
   ]
  },
  {
   "cell_type": "code",
   "execution_count": 11,
   "metadata": {},
   "outputs": [
    {
     "name": "stdout",
     "output_type": "stream",
     "text": [
      "array([-0.23778016,  0.22984342, -0.47931335, -0.2832044 , -0.03302355,\n",
      "       -0.52057955, -0.23827783, -0.28139653,  0.10148469,  0.07550526,\n",
      "        1.        , -0.05021842,  0.46610359,  0.12197271, -0.72106585,\n",
      "        0.56729041])\n",
      "array([ 0.41200414,  0.70432111,  0.04913144,  0.18547682, -0.16326169,\n",
      "        0.23348727,  0.01183992,  0.69014098, -0.00195499, -0.15118913,\n",
      "        1.        , -0.29790055,  0.06951548, -0.33038653,  0.53156053,\n",
      "       -0.26913907])\n",
      "array([ 0.0601764 ,  0.33241205, -0.0998508 ,  0.01180943, -0.54989958,\n",
      "        0.39751649,  0.40870134,  0.06521053,  1.        ,  0.37308483,\n",
      "       -0.37006606, -0.27010425, -0.35688819,  0.12945927, -0.06061815,\n",
      "        0.17208197])\n"
     ]
    }
   ],
   "source": [
    "pprint(best_solution1)\n",
    "pprint(best_solution2)\n",
    "pprint(best_solution3)"
   ]
  },
  {
   "cell_type": "code",
   "execution_count": 18,
   "metadata": {},
   "outputs": [
    {
     "name": "stdout",
     "output_type": "stream",
     "text": [
      "array([14,  5,  2,  3,  7,  6,  0, 11,  4,  9,  8, 13,  1, 12, 15, 10])\n",
      "array([13, 11, 15,  4,  9,  8,  6,  2, 12,  3,  5,  0, 14,  7,  1, 10])\n",
      "array([ 4, 10, 12, 11,  2, 14,  3,  0,  7, 13, 15,  1,  9,  5,  6,  8])\n",
      "0.5\n",
      "1.0\n",
      "0.0\n"
     ]
    }
   ],
   "source": [
    "pprint(np.argsort(best_solution1))\n",
    "pprint(np.argsort(best_solution2))\n",
    "pprint(np.argsort(best_solution3))\n",
    "\n",
    "print(fitness3(n_rows=N_ROWS, n_games=1)(best_solution2, best_solution1))\n",
    "print(fitness3(n_rows=N_ROWS, n_games=1)(best_solution3, best_solution2))\n",
    "print(fitness3(n_rows=N_ROWS, n_games=1)(best_solution3, best_solution1))"
   ]
  },
  {
   "cell_type": "code",
   "execution_count": 13,
   "metadata": {},
   "outputs": [
    {
     "data": {
      "image/png": "[encoded data removed]",
      "text/plain": [
       "<Figure size 1400x400 with 1 Axes>"
      ]
     },
     "metadata": {},
     "output_type": "display_data"
    }
   ],
   "source": [
    "history = np.array(history1)\n",
    "plt.figure(figsize=(14, 4))\n",
    "plt.plot(history[:, 0], history[:, 1], marker=\".\")\n",
    "plt.show()"
   ]
  },
  {
   "cell_type": "code",
   "execution_count": 14,
   "metadata": {},
   "outputs": [
    {
     "data": {
      "image/png": "[encoded data removed]",
      "text/plain": [
       "<Figure size 1400x400 with 1 Axes>"
      ]
     },
     "metadata": {},
     "output_type": "display_data"
    }
   ],
   "source": [
    "history = np.array(history2)\n",
    "plt.figure(figsize=(14, 4))\n",
    "plt.plot(history[:, 0], history[:, 1], marker=\".\")\n",
    "plt.show()"
   ]
  },
  {
   "cell_type": "code",
   "execution_count": 15,
   "metadata": {},
   "outputs": [
    {
     "data": {
      "image/png": "[encoded data removed]",
      "text/plain": [
       "<Figure size 1400x400 with 1 Axes>"
      ]
     },
     "metadata": {},
     "output_type": "display_data"
    }
   ],
   "source": [
    "history = np.array(history3)\n",
    "plt.figure(figsize=(14, 4))\n",
    "plt.plot(history[:, 0], history[:, 1], marker=\".\")\n",
    "plt.show()"
   ]
  },
  {
   "cell_type": "code",
   "execution_count": 19,
   "metadata": {},
   "outputs": [
    {
     "name": "stdout",
     "output_type": "stream",
     "text": [
      "99.0 %\n",
      "100.0 %\n",
      "100.0 %\n",
      "100.0 %\n"
     ]
    }
   ],
   "source": [
    "n_games = 50\n",
    "print(fitness1(n_games=n_games, n_rows=N_ROWS, strategy2=pure_random)(best_solution1)*100,'%')\n",
    "print(fitness1(n_games=n_games, n_rows=N_ROWS, strategy2=gabriele)(best_solution1)*100,'%')\n",
    "print(fitness1(n_games=n_games, n_rows=N_ROWS, strategy2=optimal)(best_solution1)*100,'%')\n",
    "print(fitness1(n_games=n_games, n_rows=N_ROWS, strategy2=new_optimal)(best_solution1)*100,'%')"
   ]
  },
  {
   "cell_type": "code",
   "execution_count": 21,
   "metadata": {},
   "outputs": [
    {
     "name": "stdout",
     "output_type": "stream",
     "text": [
      "97.0 %\n",
      "100.0 %\n",
      "100.0 %\n",
      "100.0 %\n"
     ]
    }
   ],
   "source": [
    "print(fitness1(n_games=n_games, n_rows=N_ROWS, strategy2=pure_random)(best_solution2)*100,'%')\n",
    "print(fitness1(n_games=n_games, n_rows=N_ROWS, strategy2=gabriele)(best_solution2)*100,'%')\n",
    "print(fitness1(n_games=n_games, n_rows=N_ROWS, strategy2=optimal)(best_solution2)*100,'%')\n",
    "print(fitness1(n_games=n_games, n_rows=N_ROWS, strategy2=new_optimal)(best_solution2)*100,'%')"
   ]
  },
  {
   "cell_type": "code",
   "execution_count": 22,
   "metadata": {},
   "outputs": [
    {
     "name": "stdout",
     "output_type": "stream",
     "text": [
      "89.0 %\n",
      "100.0 %\n",
      "84.0 %\n",
      "100.0 %\n"
     ]
    }
   ],
   "source": [
    "print(fitness1(n_games=n_games, n_rows=N_ROWS, strategy2=pure_random)(best_solution3)*100,'%')\n",
    "print(fitness1(n_games=n_games, n_rows=N_ROWS, strategy2=gabriele)(best_solution3)*100,'%')\n",
    "print(fitness1(n_games=n_games, n_rows=N_ROWS, strategy2=optimal)(best_solution3)*100,'%')\n",
    "print(fitness1(n_games=n_games, n_rows=N_ROWS, strategy2=new_optimal)(best_solution3)*100,'%')"
   ]
  }
 ],
 "metadata": {
  "kernelspec": {
   "display_name": ".venv",
   "language": "python",
   "name": "python3"
  },
  "language_info": {
   "codemirror_mode": {
    "name": "ipython",
    "version": 3
   },
   "file_extension": ".py",
   "mimetype": "text/x-python",
   "name": "python",
   "nbconvert_exporter": "python",
   "pygments_lexer": "ipython3",
   "version": "3.12.0"
  }
 },
 "nbformat": 4,
 "nbformat_minor": 2
}
