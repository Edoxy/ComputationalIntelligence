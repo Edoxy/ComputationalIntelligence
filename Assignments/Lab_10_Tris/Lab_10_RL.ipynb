{
 "cells": [
  {
   "cell_type": "code",
   "execution_count": 1,
   "metadata": {},
   "outputs": [],
   "source": [
    "import TicTacToe_RL as RL\n",
    "RL.clear_output()"
   ]
  },
  {
   "cell_type": "markdown",
   "metadata": {},
   "source": [
    "# Creation of the tree structure"
   ]
  },
  {
   "cell_type": "code",
   "execution_count": 2,
   "metadata": {},
   "outputs": [],
   "source": [
    "# create tree structure with StartingPosition as the first node\n",
    "StartingPosition = RL.ttt_node(tuple(-1 for _ in range(9)), dict())\n",
    "RL.create_tree(StartingPosition)"
   ]
  },
  {
   "cell_type": "code",
   "execution_count": 3,
   "metadata": {},
   "outputs": [],
   "source": [
    "env = RL.TicTacToe_Env(StartingPosition)\n",
    "agente = RL.Agent(env)"
   ]
  },
  {
   "cell_type": "markdown",
   "metadata": {},
   "source": [
    "# Q-Learing"
   ]
  },
  {
   "cell_type": "code",
   "execution_count": 4,
   "metadata": {},
   "outputs": [
    {
     "name": "stderr",
     "output_type": "stream",
     "text": [
      "100%|██████████| 2500000/2500000 [00:22<00:00, 112237.04it/s]"
     ]
    },
    {
     "name": "stdout",
     "output_type": "stream",
     "text": [
      "X • • \t\t• • • \t\t• X • \t\t\n",
      "• • • \t\t• X • \t\t• • • \t\t\n",
      "• • • \t\t• • • \t\t• • • \t\t\n",
      "\n"
     ]
    },
    {
     "name": "stderr",
     "output_type": "stream",
     "text": [
      "\n"
     ]
    }
   ],
   "source": [
    "# Make the Agent learn \n",
    "agente.QLearning(discount=.8, alpha=.02, epsilon=.1, n_step=2_500_000, Agent=agente, agent_randomness=0.2, DEBUG=False)\n",
    "\n",
    "RL.print_states(sorted(list(StartingPosition.childs.keys()), key=lambda a:agente.QFactor[(StartingPosition.state, a)], reverse=True))"
   ]
  },
  {
   "cell_type": "markdown",
   "metadata": {},
   "source": [
    "# Performace"
   ]
  },
  {
   "cell_type": "code",
   "execution_count": 5,
   "metadata": {},
   "outputs": [
    {
     "name": "stdout",
     "output_type": "stream",
     "text": [
      "Against Random Player:\t WinRate: 93.23% \tDrawRate: 6.771% \tLossRate: 0.0% \n",
      "AverageLenght: 3.29\n",
      "Against Random Player:\t WinRate: 0.0% \t\tDrawRate: 100.0% \tLossRate: 0.0%\n",
      "AverageLenght: 4.5\n"
     ]
    }
   ],
   "source": [
    "WR, DR, LR, GL = agente.play_games(100_000, flag_agent = False)\n",
    "print(f'Against Random Player:\\t WinRate: {WR*100:.4}% \\tDrawRate: {DR*100:.4}% \\tLossRate: {LR*100:.4}% \\nAverageLenght: {GL:.3}')\n",
    "WR, DR, LR, GL = agente.play_games(2, flag_agent = True)\n",
    "print(f'Against Random Player:\\t WinRate: {WR*100:.4}% \\t\\tDrawRate: {DR*100:.4}% \\tLossRate: {LR*100:.4}%\\nAverageLenght: {GL:.3}')"
   ]
  },
  {
   "cell_type": "markdown",
   "metadata": {},
   "source": [
    "# Game Example against Random Player"
   ]
  },
  {
   "cell_type": "code",
   "execution_count": 6,
   "metadata": {},
   "outputs": [
    {
     "name": "stdout",
     "output_type": "stream",
     "text": [
      "---Starting Position---\n",
      "• • • \n",
      "• • • \n",
      "• • • \n",
      "\n",
      "---Agent To Move---\n",
      "X • • \t\tX • • \t\t\n",
      "• • • \t\t• O • \t\t\n",
      "• • • \t\t• • • \t\t\n",
      "\n",
      "X X • \t\tX X O \t\t\n",
      "• O • \t\t• O • \t\t\n",
      "• • • \t\t• • • \t\t\n",
      "\n",
      "X X O \t\tX X O \t\t\n",
      "• O • \t\tO O • \t\t\n",
      "X • • \t\tX • • \t\t\n",
      "\n",
      "X X O \t\tX X O \t\t\n",
      "O O X \t\tO O X \t\t\n",
      "X • • \t\tX • O \t\t\n",
      "\n",
      "X X O \t\tX X O \t\t\n",
      "O O X \t\tO O X \t\t\n",
      "X X O \t\tX X O \t\t\n",
      "\n",
      "StateType.DRAW\n"
     ]
    }
   ],
   "source": [
    "agente.play_game(flag_agent=False)"
   ]
  }
 ],
 "metadata": {
  "kernelspec": {
   "display_name": ".venv",
   "language": "python",
   "name": "python3"
  },
  "language_info": {
   "codemirror_mode": {
    "name": "ipython",
    "version": 3
   },
   "file_extension": ".py",
   "mimetype": "text/x-python",
   "name": "python",
   "nbconvert_exporter": "python",
   "pygments_lexer": "ipython3",
   "version": "3.12.0"
  }
 },
 "nbformat": 4,
 "nbformat_minor": 2
}
