{
 "cells": [
  {
   "cell_type": "code",
   "execution_count": 1,
   "metadata": {},
   "outputs": [],
   "source": [
    "import numpy as np\n",
    "from functools import reduce\n",
    "from random import random, seed\n",
    "from scipy.stats import binom\n",
    "import scipy.special as sp\n",
    "\n",
    "ALPHA = .02\n",
    "PROBABILITY = .2\n",
    "\n",
    "### TEST PROBABILISTIC HEURISTIC ###\n",
    "\n",
    "def prob_estimation(n, *, flag = 1):\n",
    "    if flag == 1:\n",
    "        return PROBABILITY**n\n",
    "    elif flag == 2:\n",
    "        p = 0\n",
    "        for i in range(1, n):\n",
    "            p += binom.pmf(i, n, PROBABILITY) * PROBABILITY**(n-i)\n",
    "        return p"
   ]
  },
  {
   "cell_type": "code",
   "execution_count": 8,
   "metadata": {},
   "outputs": [
    {
     "name": "stdout",
     "output_type": "stream",
     "text": [
      "0.000325\n",
      "0.0003200000000000001\n"
     ]
    }
   ],
   "source": [
    "### flag 1 test\n",
    "N = 5\n",
    "N_TESTS = 1_000_000\n",
    "SETS = tuple(np.array([random() < PROBABILITY for _ in range(N)]) for _ in range(N_TESTS))\n",
    "counter = 0\n",
    "for test in SETS:\n",
    "    if reduce(np.logical_and, test) == True:\n",
    "        counter += 1\n",
    "print(counter/N_TESTS)\n",
    "print(prob_estimation(N, flag=1))"
   ]
  },
  {
   "cell_type": "code",
   "execution_count": 9,
   "metadata": {},
   "outputs": [
    {
     "name": "stdout",
     "output_type": "stream",
     "text": [
      "4.5e-05\n",
      "3.6448189284352014e-05\n"
     ]
    }
   ],
   "source": [
    "### flag 2 test\n",
    "### flag 1 test\n",
    "N = 10\n",
    "N_TESTS = 1_000_000\n",
    "SETS = tuple(np.array([random() < PROBABILITY for _ in range(N)]) for _ in range(N_TESTS * 2))\n",
    "counter = 0\n",
    "for i in range(N_TESTS):\n",
    "    if reduce(np.logical_and, SETS[2*i]) == True or reduce(np.logical_and, SETS[2*i+1]) == True:\n",
    "        continue\n",
    "    if np.all(np.logical_or(SETS[2*i], SETS[2*i+1])) == True:\n",
    "        counter += 1\n",
    "print(counter/N_TESTS)\n",
    "print(prob_estimation(N, flag=2))\n"
   ]
  }
 ],
 "metadata": {
  "kernelspec": {
   "display_name": ".venv",
   "language": "python",
   "name": "python3"
  },
  "language_info": {
   "codemirror_mode": {
    "name": "ipython",
    "version": 3
   },
   "file_extension": ".py",
   "mimetype": "text/x-python",
   "name": "python",
   "nbconvert_exporter": "python",
   "pygments_lexer": "ipython3",
   "version": "3.12.0"
  }
 },
 "nbformat": 4,
 "nbformat_minor": 2
}
