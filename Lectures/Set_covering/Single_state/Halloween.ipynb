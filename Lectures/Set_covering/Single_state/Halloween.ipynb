{
 "cells": [
  {
   "cell_type": "markdown",
   "id": "185f9931-b384-4fdc-a5b2-eea785428bb8",
   "metadata": {},
   "source": [
    "Copyright **`(c)`** 2023 Giovanni Squillero `<giovanni.squillero@polito.it>`  \n",
    "[`https://github.com/squillero/computational-intelligence`](https://github.com/squillero/computational-intelligence)  \n",
    "Free for personal or classroom use; see [`LICENSE.md`](https://github.com/squillero/computational-intelligence/blob/master/LICENSE.md) for details.  "
   ]
  },
  {
   "cell_type": "code",
   "execution_count": 1,
   "id": "3ffe7245-e849-41d0-9698-5f0e0b83fee9",
   "metadata": {},
   "outputs": [],
   "source": [
    "from itertools import product\n",
    "from random import random, randint, shuffle, seed\n",
    "import numpy as np\n",
    "from scipy import sparse"
   ]
  },
  {
   "cell_type": "code",
   "execution_count": 2,
   "id": "6f03bd67-78a0-4d72-95b7-77a918727b91",
   "metadata": {},
   "outputs": [],
   "source": [
    "def make_set_covering_problem(num_points, num_sets, density):\n",
    "    \"\"\"Returns a sparse array where rows are sets and columns are the covered items\"\"\"\n",
    "    seed(num_points * 2654435761 + num_sets + density)\n",
    "    sets = sparse.lil_array((num_sets, num_points), dtype=bool)\n",
    "    for s, p in product(range(num_sets), range(num_points)):\n",
    "        if random() < density:\n",
    "            sets[s, p] = True\n",
    "    for p in range(num_points):\n",
    "        sets[randint(0, num_sets - 1), p] = True\n",
    "    return sets"
   ]
  },
  {
   "cell_type": "markdown",
   "id": "82b0be37-21d9-492d-9a1d-cf0cdf0ddd76",
   "metadata": {},
   "source": [
    "# Halloween Challenge\n",
    "\n",
    "Find the best solution with the fewest calls to the fitness functions for:\n",
    "\n",
    "* `num_points = [100, 1_000, 5_000]`\n",
    "* `num_sets = num_points`\n",
    "* `density = [.3, .7]` "
   ]
  },
  {
   "cell_type": "code",
   "execution_count": 3,
   "id": "221ffdba-5d3d-48cc-bd08-45ccc9366ea6",
   "metadata": {},
   "outputs": [],
   "source": [
    "x11 = make_set_covering_problem(100, 100, 0.3)\n",
    "x12 = make_set_covering_problem(1000, 1000, 0.3)\n",
    "x13 = make_set_covering_problem(5000, 5000, 0.3)\n",
    "\n",
    "x21 = make_set_covering_problem(100, 100, 0.7)\n",
    "x22 = make_set_covering_problem(1000, 1000, 0.7)\n",
    "x23 = make_set_covering_problem(5000, 5000, 0.7)"
   ]
  },
  {
   "cell_type": "code",
   "execution_count": 4,
   "id": "8323b831",
   "metadata": {},
   "outputs": [
    {
     "name": "stderr",
     "output_type": "stream",
     "text": [
      "/Users/edovay/Documents/code/Polito_Code/ING_MAT/ANNO_2/ComputationalIntelligence/.venv/lib/python3.12/site-packages/tqdm/auto.py:21: TqdmWarning: IProgress not found. Please update jupyter and ipywidgets. See https://ipywidgets.readthedocs.io/en/stable/user_install.html\n",
      "  from .autonotebook import tqdm as notebook_tqdm\n"
     ]
    }
   ],
   "source": [
    "import SingleStateMethods as ssm"
   ]
  },
  {
   "cell_type": "code",
   "execution_count": 5,
   "id": "edbf11ba",
   "metadata": {},
   "outputs": [
    {
     "name": "stderr",
     "output_type": "stream",
     "text": [
      " 57%|█████▋    | 86/150 [00:00<00:00, 802.21it/s]\n",
      " 63%|██████▎   | 95/150 [00:00<00:00, 876.37it/s]\n",
      " 35%|███▌      | 53/150 [00:00<00:00, 1002.59it/s]\n",
      " 25%|██▍       | 37/150 [00:00<00:00, 986.51it/s]\n",
      " 43%|████▎     | 65/150 [00:00<00:00, 859.85it/s]\n",
      " 56%|█████▌    | 84/150 [00:00<00:00, 949.35it/s]\n",
      " 44%|████▍     | 66/150 [00:00<00:00, 989.40it/s]\n",
      " 31%|███       | 46/150 [00:00<00:00, 1001.64it/s]\n",
      " 24%|██▍       | 36/150 [00:00<00:00, 914.49it/s]\n",
      " 58%|█████▊    | 87/150 [00:00<00:00, 944.38it/s]"
     ]
    },
    {
     "name": "stdout",
     "output_type": "stream",
     "text": [
      "6803 (100, -7)\n"
     ]
    },
    {
     "name": "stderr",
     "output_type": "stream",
     "text": [
      "\n"
     ]
    }
   ],
   "source": [
    "seed(0)\n",
    "ils11 = ssm.ILS(problem_matrix=x1, n_samples=10, auto_stop=15, restart=10)\n",
    "output11 = ils11.agent_solver(iterations=150)\n",
    "print(ils11.fitness_calls, ils11.fitness1(output11))"
   ]
  },
  {
   "cell_type": "code",
   "execution_count": 6,
   "id": "6a183e6b",
   "metadata": {},
   "outputs": [
    {
     "name": "stderr",
     "output_type": "stream",
     "text": [
      " 61%|██████▏   | 92/150 [00:01<00:00, 83.31it/s]\n",
      " 72%|███████▏  | 108/150 [00:01<00:00, 95.91it/s]\n",
      " 63%|██████▎   | 94/150 [00:01<00:00, 80.11it/s]\n",
      " 14%|█▍        | 21/150 [00:00<00:01, 96.30it/s] \n",
      " 65%|██████▍   | 97/150 [00:01<00:00, 81.16it/s]\n",
      " 14%|█▍        | 21/150 [00:00<00:01, 82.25it/s]\n",
      " 21%|██▏       | 32/150 [00:00<00:01, 91.01it/s] \n",
      " 21%|██▏       | 32/150 [00:00<00:01, 90.74it/s]\n",
      " 53%|█████▎    | 79/150 [00:00<00:00, 79.58it/s]\n",
      "100%|██████████| 150/150 [00:01<00:00, 78.30it/s]"
     ]
    },
    {
     "name": "stdout",
     "output_type": "stream",
     "text": [
      "11474 (1000, -16)\n"
     ]
    },
    {
     "name": "stderr",
     "output_type": "stream",
     "text": [
      "\n"
     ]
    }
   ],
   "source": [
    "seed(0)\n",
    "ils12 = ssm.ILS(problem_matrix=x2, n_samples=15, auto_stop=20, restart=10)\n",
    "output12 = ils12.agent_solver(iterations=150)\n",
    "print(ils12.fitness_calls, ils12.fitness1(output12))"
   ]
  },
  {
   "cell_type": "code",
   "execution_count": 13,
   "id": "116da3b6",
   "metadata": {},
   "outputs": [
    {
     "name": "stderr",
     "output_type": "stream",
     "text": [
      " 14%|█▎        | 27/200 [00:02<00:16, 10.60it/s]\n",
      " 26%|██▌       | 52/200 [00:04<00:12, 11.45it/s]\n",
      " 24%|██▍       | 49/200 [00:04<00:14, 10.77it/s]\n",
      " 13%|█▎        | 26/200 [00:02<00:14, 11.82it/s]\n",
      " 20%|█▉        | 39/200 [00:03<00:14, 10.88it/s]\n",
      " 14%|█▎        | 27/200 [00:02<00:15, 11.02it/s]\n",
      " 27%|██▋       | 54/200 [00:04<00:13, 11.21it/s]\n",
      " 22%|██▏       | 43/200 [00:03<00:13, 11.69it/s]\n",
      " 15%|█▌        | 30/200 [00:02<00:14, 11.77it/s]\n",
      " 18%|█▊        | 37/200 [00:03<00:13, 11.70it/s]"
     ]
    },
    {
     "name": "stdout",
     "output_type": "stream",
     "text": [
      "8015 (5000, -22)\n"
     ]
    },
    {
     "name": "stderr",
     "output_type": "stream",
     "text": [
      "\n"
     ]
    }
   ],
   "source": [
    "seed(0)\n",
    "ils13 = ssm.ILS(problem_matrix=x3, n_samples=20, auto_stop=30, restart=10)\n",
    "output13 = ils13.agent_solver(iterations=200)\n",
    "print(ils13.fitness_calls, ils13.fitness1(output13))"
   ]
  }
 ],
 "metadata": {
  "kernelspec": {
   "display_name": "Python 3 (ipykernel)",
   "language": "python",
   "name": "python3"
  },
  "language_info": {
   "codemirror_mode": {
    "name": "ipython",
    "version": 3
   },
   "file_extension": ".py",
   "mimetype": "text/x-python",
   "name": "python",
   "nbconvert_exporter": "python",
   "pygments_lexer": "ipython3",
   "version": "3.12.0"
  }
 },
 "nbformat": 4,
 "nbformat_minor": 5
}
