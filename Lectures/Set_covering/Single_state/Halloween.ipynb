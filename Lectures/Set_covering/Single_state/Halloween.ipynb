{
 "cells": [
  {
   "cell_type": "markdown",
   "id": "185f9931-b384-4fdc-a5b2-eea785428bb8",
   "metadata": {},
   "source": [
    "Copyright **`(c)`** 2023 Giovanni Squillero `<giovanni.squillero@polito.it>`  \n",
    "[`https://github.com/squillero/computational-intelligence`](https://github.com/squillero/computational-intelligence)  \n",
    "Free for personal or classroom use; see [`LICENSE.md`](https://github.com/squillero/computational-intelligence/blob/master/LICENSE.md) for details.  "
   ]
  },
  {
   "cell_type": "code",
   "execution_count": 1,
   "id": "3ffe7245-e849-41d0-9698-5f0e0b83fee9",
   "metadata": {},
   "outputs": [],
   "source": [
    "from itertools import product\n",
    "from random import random, randint, shuffle, seed\n",
    "import numpy as np\n",
    "from scipy import sparse"
   ]
  },
  {
   "cell_type": "code",
   "execution_count": 2,
   "id": "6f03bd67-78a0-4d72-95b7-77a918727b91",
   "metadata": {},
   "outputs": [],
   "source": [
    "def make_set_covering_problem(num_points, num_sets, density):\n",
    "    \"\"\"Returns a sparse array where rows are sets and columns are the covered items\"\"\"\n",
    "    seed(num_points * 2654435761 + num_sets + density)\n",
    "    sets = sparse.lil_array((num_sets, num_points), dtype=bool)\n",
    "    for s, p in product(range(num_sets), range(num_points)):\n",
    "        if random() < density:\n",
    "            sets[s, p] = True\n",
    "    for p in range(num_points):\n",
    "        sets[randint(0, num_sets - 1), p] = True\n",
    "    return sets"
   ]
  },
  {
   "cell_type": "markdown",
   "id": "82b0be37-21d9-492d-9a1d-cf0cdf0ddd76",
   "metadata": {},
   "source": [
    "# Halloween Challenge\n",
    "\n",
    "Find the best solution with the fewest calls to the fitness functions for:\n",
    "\n",
    "* `num_points = [100, 1_000, 5_000]`\n",
    "* `num_sets = num_points`\n",
    "* `density = [.3, .7]` "
   ]
  },
  {
   "cell_type": "code",
   "execution_count": 3,
   "id": "221ffdba-5d3d-48cc-bd08-45ccc9366ea6",
   "metadata": {},
   "outputs": [],
   "source": [
    "x11 = make_set_covering_problem(100, 100, 0.3)\n",
    "x12 = make_set_covering_problem(1000, 1000, 0.3)\n",
    "x13 = make_set_covering_problem(5000, 5000, 0.3)\n",
    "\n",
    "x21 = make_set_covering_problem(100, 100, 0.7)\n",
    "x22 = make_set_covering_problem(1000, 1000, 0.7)\n",
    "x23 = make_set_covering_problem(5000, 5000, 0.7)"
   ]
  },
  {
   "cell_type": "code",
   "execution_count": 4,
   "id": "8323b831",
   "metadata": {},
   "outputs": [
    {
     "name": "stderr",
     "output_type": "stream",
     "text": [
      "/Users/edovay/Documents/code/Polito_Code/ING_MAT/ANNO_2/ComputationalIntelligence/.venv/lib/python3.12/site-packages/tqdm/auto.py:21: TqdmWarning: IProgress not found. Please update jupyter and ipywidgets. See https://ipywidgets.readthedocs.io/en/stable/user_install.html\n",
      "  from .autonotebook import tqdm as notebook_tqdm\n"
     ]
    }
   ],
   "source": [
    "import SingleStateMethods as ssm"
   ]
  },
  {
   "cell_type": "code",
   "execution_count": 14,
   "id": "edbf11ba",
   "metadata": {},
   "outputs": [
    {
     "name": "stdout",
     "output_type": "stream",
     "text": [
      "Desity .3\n"
     ]
    },
    {
     "name": "stderr",
     "output_type": "stream",
     "text": [
      " 21%|██        | 31/150 [00:00<00:00, 346.66it/s]\n",
      " 75%|███████▍  | 112/150 [00:00<00:00, 327.11it/s]\n",
      " 81%|████████▏ | 122/150 [00:00<00:00, 313.03it/s]\n",
      " 24%|██▍       | 36/150 [00:00<00:00, 316.63it/s]\n",
      " 45%|████▌     | 68/150 [00:00<00:00, 364.72it/s]\n",
      " 21%|██        | 31/150 [00:00<00:00, 356.57it/s]\n",
      " 19%|█▊        | 28/150 [00:00<00:00, 351.53it/s]\n",
      " 19%|█▊        | 28/150 [00:00<00:00, 410.98it/s]\n"
     ]
    },
    {
     "name": "stdout",
     "output_type": "stream",
     "text": [
      "Desity .7\n"
     ]
    },
    {
     "name": "stderr",
     "output_type": "stream",
     "text": [
      " 45%|████▍     | 67/150 [00:00<00:00, 410.74it/s]\n",
      " 11%|█         | 16/150 [00:00<00:00, 378.03it/s]\n",
      "100%|██████████| 150/150 [00:00<00:00, 367.31it/s]\n",
      " 19%|█▊        | 28/150 [00:00<00:00, 446.60it/s]\n",
      " 63%|██████▎   | 94/150 [00:00<00:00, 365.62it/s]\n",
      " 22%|██▏       | 33/150 [00:00<00:00, 383.21it/s]\n",
      " 21%|██        | 31/150 [00:00<00:00, 535.68it/s]\n",
      " 72%|███████▏  | 108/150 [00:00<00:00, 378.74it/s]"
     ]
    },
    {
     "name": "stdout",
     "output_type": "stream",
     "text": [
      "17968 (100, -6)\n",
      "21612 (100, -3)\n"
     ]
    },
    {
     "name": "stderr",
     "output_type": "stream",
     "text": [
      "\n"
     ]
    }
   ],
   "source": [
    "print('Desity .3')\n",
    "seed(0)\n",
    "ils_11 = ssm.ILS(problem_matrix=x11, n_samples=50, auto_stop=10, restart=8)\n",
    "output_11 = ils_11.agent_solver(iterations=150)\n",
    "\n",
    "print('Desity .7')\n",
    "seed(0)\n",
    "ils_21 = ssm.ILS(problem_matrix=x21, n_samples=50, auto_stop=10, restart=8)\n",
    "output_21 = ils_21.agent_solver(iterations=150)\n",
    "\n",
    "print(ils_11.fitness_calls, ils_11.fitness1(output_11))\n",
    "print(ils_21.fitness_calls, ils_21.fitness1(output_21))"
   ]
  },
  {
   "cell_type": "code",
   "execution_count": 21,
   "id": "6a183e6b",
   "metadata": {},
   "outputs": [
    {
     "name": "stdout",
     "output_type": "stream",
     "text": [
      "Desity .3\n"
     ]
    },
    {
     "name": "stderr",
     "output_type": "stream",
     "text": [
      " 26%|██▌       | 39/150 [00:00<00:02, 53.93it/s]\n",
      " 28%|██▊       | 42/150 [00:00<00:02, 43.11it/s]\n",
      " 31%|███       | 46/150 [00:00<00:01, 55.31it/s]\n",
      " 37%|███▋      | 56/150 [00:01<00:02, 46.95it/s]\n",
      " 32%|███▏      | 48/150 [00:00<00:01, 55.96it/s]\n",
      " 54%|█████▍    | 81/150 [00:02<00:01, 38.68it/s]\n",
      " 81%|████████  | 121/150 [00:01<00:00, 64.88it/s]\n",
      " 97%|█████████▋| 145/150 [00:02<00:00, 57.89it/s]\n"
     ]
    },
    {
     "name": "stdout",
     "output_type": "stream",
     "text": [
      "Desity .7\n"
     ]
    },
    {
     "name": "stderr",
     "output_type": "stream",
     "text": [
      " 23%|██▎       | 34/150 [00:01<00:05, 21.47it/s]\n",
      " 22%|██▏       | 33/150 [00:00<00:02, 44.20it/s]\n",
      " 27%|██▋       | 40/150 [00:00<00:02, 44.97it/s]\n",
      " 26%|██▌       | 39/150 [00:00<00:02, 52.13it/s]\n",
      " 29%|██▊       | 43/150 [00:00<00:02, 44.46it/s]\n",
      " 29%|██▉       | 44/150 [00:00<00:02, 50.85it/s]\n",
      " 61%|██████▏   | 92/150 [00:01<00:01, 54.14it/s]\n",
      " 61%|██████▏   | 92/150 [00:01<00:00, 89.38it/s]"
     ]
    },
    {
     "name": "stdout",
     "output_type": "stream",
     "text": [
      "0 (1000, -13)\n",
      "0 (1000, -5)\n"
     ]
    },
    {
     "name": "stderr",
     "output_type": "stream",
     "text": [
      " 67%|██████▋   | 100/150 [00:01<00:00, 70.24it/s]\n"
     ]
    }
   ],
   "source": [
    "print('Desity .3')\n",
    "seed(0)\n",
    "ils_12 = ssm.ILS_parallel(problem_matrix=x12, n_samples=20, auto_stop=30, restart=8)\n",
    "output_12 = ils_12.agent_solver(iterations=150)\n",
    "\n",
    "print('Desity .7')\n",
    "seed(0)\n",
    "ils_22 = ssm.ILS_parallel(problem_matrix=x22, n_samples=20, auto_stop=30, restart=8)\n",
    "output_22 = ils_22.agent_solver(iterations=150)\n",
    "\n",
    "print(ils_12.fitness_calls, ils_12.fitness1(output_12))\n",
    "print(ils_22.fitness_calls, ils_22.fitness1(output_22))"
   ]
  },
  {
   "cell_type": "code",
   "execution_count": null,
   "id": "116da3b6",
   "metadata": {},
   "outputs": [],
   "source": [
    "print('Desity .3')\n",
    "seed(0)\n",
    "ils_13 = ssm.ILS_parallel(problem_matrix=x13, n_samples=10, auto_stop=35, restart=8)\n",
    "output_13 = ils_13.agent_solver(iterations=150)\n",
    "\n",
    "print('Desity .7')\n",
    "seed(0)\n",
    "ils_23 = ssm.ILS_parallel(problem_matrix=x23, n_samples=10, auto_stop=35, restart=8)\n",
    "output_23 = ils_23.agent_solver(iterations=150)\n",
    "\n",
    "print(ils_13.fitness_calls, ils_13.fitness1(output_13))\n",
    "print(ils_23.fitness_calls, ils_23.fitness1(output_23))"
   ]
  }
 ],
 "metadata": {
  "kernelspec": {
   "display_name": "Python 3 (ipykernel)",
   "language": "python",
   "name": "python3"
  },
  "language_info": {
   "codemirror_mode": {
    "name": "ipython",
    "version": 3
   },
   "file_extension": ".py",
   "mimetype": "text/x-python",
   "name": "python",
   "nbconvert_exporter": "python",
   "pygments_lexer": "ipython3",
   "version": "3.12.0"
  }
 },
 "nbformat": 4,
 "nbformat_minor": 5
}
