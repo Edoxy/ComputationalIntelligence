{
 "cells": [
  {
   "cell_type": "code",
   "execution_count": 17,
   "metadata": {},
   "outputs": [],
   "source": [
    "import numpy as np\n",
    "from functools import reduce\n",
    "from random import random, seed\n",
    "from queue import PriorityQueue\n",
    "from collections import namedtuple\n",
    "from scipy.stats import binom\n",
    "import scipy.special as sp"
   ]
  },
  {
   "cell_type": "code",
   "execution_count": 18,
   "metadata": {},
   "outputs": [],
   "source": [
    "seed(1)\n",
    "PROBABILITY = 0.3\n",
    "PROBLEM_SIZE = 75\n",
    "NUM_SETS = 75\n",
    "\n",
    "# 20% prob of being true using array compriansion and then converting to nparray\n",
    "SETS = tuple(\n",
    "    np.array([random() < PROBABILITY for _ in range(PROBLEM_SIZE)])\n",
    "    for _ in range(NUM_SETS)\n",
    ")\n",
    "\n",
    "## removes double sets\n",
    "SETS = set(tuple(tuple(set_) for set_ in SETS))\n",
    "SETS = list(np.array(set_) for set_ in SETS)\n",
    "\n",
    "## sort elements from the one with most zeros\n",
    "SETS.sort(key=lambda x: -sum(x))\n",
    "SETS = tuple(SETS)\n",
    "NUM_SETS = len(SETS)\n",
    "\n",
    "# create named tuple\n",
    "State = namedtuple(\"State\", [\"taken\", \"not_taken\"])"
   ]
  },
  {
   "cell_type": "code",
   "execution_count": 19,
   "metadata": {},
   "outputs": [],
   "source": [
    "def goal_check(state):\n",
    "    if state[0] == list() or state[0] == set():\n",
    "        return False\n",
    "    return np.all(reduce(np.logical_or, [SETS[i] for i in state[0]]))\n",
    "\n",
    "\n",
    "assert goal_check((list(range(NUM_SETS)), list())), \"Problem not solvable\"\n",
    "\n",
    "\n",
    "### DETERMINISTIC HEURISTIC ###\n",
    "def h(state):\n",
    "    \"\"\"\n",
    "    Deterministic heusìristic function\n",
    "    \"\"\"\n",
    "    reduction = reduce(np.logical_or, [SETS[i] for i in state[0]])\n",
    "    n_zero = PROBLEM_SIZE - np.sum(reduction)\n",
    "    if n_zero < 2:\n",
    "        return n_zero\n",
    "    else:\n",
    "        pos_zeros = [i for i, item in enumerate(reduction) if item == False]\n",
    "        a = 0\n",
    "        for tile in state.not_taken:\n",
    "            if reduce(np.logical_or, SETS[tile][pos_zeros]) == True:\n",
    "                a += 1\n",
    "        if a == 0:\n",
    "            return 2 + 1 - n_zero / PROBLEM_SIZE\n",
    "        else:\n",
    "            return 1\n",
    "def dist(state):\n",
    "    return len(state.taken)\n",
    "\n",
    "### A STAR DISTANCE MESURE ###\n",
    "def a_star_distance(state):\n",
    "    return len(state.taken) + h(state)"
   ]
  },
  {
   "cell_type": "code",
   "execution_count": 20,
   "metadata": {},
   "outputs": [],
   "source": [
    "### PROBABILISTIC HEURISTIC ###\n",
    "\n",
    "\n",
    "def prob_estimation(n, *, flag=1):\n",
    "    if flag == 1:\n",
    "        return PROBABILITY**n\n",
    "    elif flag == 2:\n",
    "        p = 0\n",
    "        for i in range(1, n):\n",
    "            p += binom.pmf(i, n, PROBABILITY) * PROBABILITY ** (n - i)\n",
    "        return p\n",
    "\n",
    "global_LookupTable_p = dict()\n",
    "\n",
    "def h_p(state):\n",
    "    \"\"\"\n",
    "    Stochastic heuristic function based on the binomial distribution\n",
    "    alpha: probability threshold\n",
    "    \"\"\"\n",
    "    alpha = 0.05\n",
    "    reduction = reduce(np.logical_or, [SETS[i] for i in state[0]])\n",
    "    n_zero = PROBLEM_SIZE - np.sum(reduction)\n",
    "    if n_zero < 2:\n",
    "        return n_zero\n",
    "    else:\n",
    "        n_not_taken = len(state.not_taken)\n",
    "        if (1 - (1 - prob_estimation(n_zero, flag=1)) ** n_not_taken) > alpha:\n",
    "\n",
    "            return 1 + 1 - n_zero / PROBLEM_SIZE\n",
    "        \n",
    "        elif (1 - (1 - prob_estimation(n_zero, flag=2)) ** sp.binom(n_not_taken, 2)) > alpha:\n",
    "\n",
    "            return 2 + 1 - n_zero / PROBLEM_SIZE\n",
    "        else:\n",
    "            return 3 + 1 - n_zero / PROBLEM_SIZE\n",
    "        \n",
    "def h_p2(state):\n",
    "    \"\"\"\n",
    "    Stochastic heuristic function based on the binomial distribution\n",
    "    alpha: probability threshold\n",
    "    \"\"\"\n",
    "    alpha = 0.05\n",
    "    reduction = reduce(np.logical_or, [SETS[i] for i in state[0]])\n",
    "    n_zero = PROBLEM_SIZE - np.sum(reduction)\n",
    "    if n_zero < 2:\n",
    "        return n_zero\n",
    "    else:\n",
    "        n_not_taken = len(state.not_taken)\n",
    "\n",
    "        if (n_zero, 1) not in global_LookupTable_p:\n",
    "            global_LookupTable_p[(n_zero, 1)] = prob_estimation(n_zero, flag=1)\n",
    "        if (n_zero, 2) not in global_LookupTable_p:\n",
    "            global_LookupTable_p[(n_zero, 2)] = prob_estimation(n_zero, flag=2)\n",
    "\n",
    "        if (1 - (1 - global_LookupTable_p[(n_zero, 1)]) ** n_not_taken) > alpha:\n",
    "\n",
    "            return 1 - n_zero / PROBLEM_SIZE\n",
    "        \n",
    "        elif (1 - (1 - global_LookupTable_p[(n_zero, 2)]) ** sp.binom(n_not_taken, 2)) > alpha:\n",
    "\n",
    "            return 1 + 1 - n_zero / PROBLEM_SIZE\n",
    "        else:\n",
    "            return 2 + 1 - n_zero / PROBLEM_SIZE\n",
    "\n",
    "def a_star_distance_p(state):\n",
    "    return len(state.taken) + h_p(state)\n",
    "\n",
    "### fusion test ###\n",
    "def a_star_mix(state):\n",
    "    if len(state.not_taken) > 100:\n",
    "        return len(state.taken) + h_p(state)\n",
    "    else:\n",
    "        return len(state.taken) + h(state)"
   ]
  },
  {
   "cell_type": "code",
   "execution_count": 21,
   "metadata": {},
   "outputs": [],
   "source": [
    "def action_list_func(state):\n",
    "    return [action_ for action_ in state.not_taken]\n",
    "\n",
    "\n",
    "def action_func(state, current_action):\n",
    "    new_taken = state.taken.copy()\n",
    "    new_taken.append(current_action)\n",
    "    return State(new_taken, state[1].copy()[current_action + 1 :])\n",
    "\n",
    "\n",
    "def A_star(init_state, action_list_func, action_func, goal_check, valid_dist):\n",
    "    frontier = PriorityQueue()\n",
    "    counter = 0\n",
    "    current_state = init_state\n",
    "    while not goal_check(current_state):\n",
    "        counter += 1\n",
    "        action_list = action_list_func(current_state)\n",
    "        for action in action_list:\n",
    "            new_state = action_func(current_state, action)\n",
    "            # priority = distance(new_state) + heuristic(new_state)\n",
    "            priority = valid_dist(new_state)\n",
    "            frontier.put((priority, new_state))\n",
    "        _, current_state = frontier.get()\n",
    "    \n",
    "    return counter, current_state"
   ]
  },
  {
   "cell_type": "code",
   "execution_count": 22,
   "metadata": {},
   "outputs": [
    {
     "name": "stdout",
     "output_type": "stream",
     "text": [
      "Solved in 3,004 steps, with 5 sets\n",
      "[0, 3, 5, 11, 46]\n"
     ]
    },
    {
     "data": {
      "text/plain": [
       "141"
      ]
     },
     "execution_count": 22,
     "metadata": {},
     "output_type": "execute_result"
    }
   ],
   "source": [
    "# probilistic h\n",
    "counter, sol_state = A_star(State(list(), list(range(NUM_SETS))), action_list_func, action_func, goal_check, a_star_distance_p)\n",
    "print(f'Solved in {counter:,} steps, with {len(sol_state.taken)} sets')\n",
    "print(sol_state.taken)\n",
    "sum(sum([SETS[i] for i in sol_state.taken]))"
   ]
  },
  {
   "cell_type": "code",
   "execution_count": 23,
   "metadata": {},
   "outputs": [
    {
     "name": "stdout",
     "output_type": "stream",
     "text": [
      "Solved in 12,030 steps, with 5 sets\n",
      "[0, 3, 5, 11, 46]\n"
     ]
    },
    {
     "data": {
      "text/plain": [
       "141"
      ]
     },
     "execution_count": 23,
     "metadata": {},
     "output_type": "execute_result"
    }
   ],
   "source": [
    "# mixed strategies\n",
    "counter, sol_state = A_star(State(list(), list(range(NUM_SETS))), action_list_func, action_func, goal_check, a_star_mix)\n",
    "print(f'Solved in {counter:,} steps, with {len(sol_state.taken)} sets')\n",
    "print(sol_state.taken)\n",
    "sum(sum([SETS[i] for i in sol_state.taken]))\n"
   ]
  },
  {
   "cell_type": "code",
   "execution_count": 24,
   "metadata": {},
   "outputs": [
    {
     "name": "stdout",
     "output_type": "stream",
     "text": [
      "Solved in 12,030 steps, with 5 sets\n",
      "[0, 3, 5, 11, 46]\n"
     ]
    },
    {
     "data": {
      "text/plain": [
       "141"
      ]
     },
     "execution_count": 24,
     "metadata": {},
     "output_type": "execute_result"
    }
   ],
   "source": [
    "# deterministic h\n",
    "counter, sol_state = A_star(State(list(), list(range(NUM_SETS))), action_list_func, action_func, goal_check, a_star_distance)\n",
    "print(f'Solved in {counter:,} steps, with {len(sol_state.taken)} sets')\n",
    "print(sol_state.taken)\n",
    "sum(sum([SETS[i] for i in sol_state.taken]))\n"
   ]
  }
 ],
 "metadata": {
  "kernelspec": {
   "display_name": ".venv",
   "language": "python",
   "name": "python3"
  },
  "language_info": {
   "codemirror_mode": {
    "name": "ipython",
    "version": 3
   },
   "file_extension": ".py",
   "mimetype": "text/x-python",
   "name": "python",
   "nbconvert_exporter": "python",
   "pygments_lexer": "ipython3",
   "version": "3.12.0"
  }
 },
 "nbformat": 4,
 "nbformat_minor": 2
}
